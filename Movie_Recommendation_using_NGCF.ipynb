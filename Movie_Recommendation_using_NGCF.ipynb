{
  "nbformat": 4,
  "nbformat_minor": 0,
  "metadata": {
    "colab": {
      "provenance": [],
      "gpuType": "T4"
    },
    "kernelspec": {
      "name": "python3",
      "display_name": "Python 3"
    },
    "language_info": {
      "name": "python"
    },
    "accelerator": "GPU"
  },
  "cells": [
    {
      "cell_type": "code",
      "execution_count": 1,
      "metadata": {
        "id": "T7qcwWDpF8_a"
      },
      "outputs": [],
      "source": [
        "import torch\n",
        "\n",
        "TORCH = torch.__version__.split('+')[0]\n",
        "CUDA = 'cu' + torch.version.cuda.replace('.', '')\n",
        "device = torch.device(\"cuda\")"
      ]
    },
    {
      "cell_type": "code",
      "source": [
        "#!pip install torch-scatter -f https://pytorch-geometric.com/whl/torch-{TORCH}+{CUDA}.html\n",
        "#!pip install torch-sparse -f https://pytorch-geometric.com/whl/torch-{TORCH}+{CUDA}.html\n",
        "#!pip install torch-cluster -f https://pytorch-geometric.com/whl/torch-{TORCH}+{CUDA}.html\n",
        "#!pip install torch-spline-conv -f https://pytorch-geometric.com/whl/torch-{TORCH}+{CUDA}.html\n",
        "!pip install torch-geometric"
      ],
      "metadata": {
        "colab": {
          "base_uri": "https://localhost:8080/"
        },
        "collapsed": true,
        "id": "WKrmX_dDb2fA",
        "outputId": "4ec6374a-ffd5-4da9-dd31-dafb2eefae14"
      },
      "execution_count": 2,
      "outputs": [
        {
          "output_type": "stream",
          "name": "stdout",
          "text": [
            "Requirement already satisfied: torch-geometric in /usr/local/lib/python3.10/dist-packages (2.5.3)\n",
            "Requirement already satisfied: tqdm in /usr/local/lib/python3.10/dist-packages (from torch-geometric) (4.66.4)\n",
            "Requirement already satisfied: numpy in /usr/local/lib/python3.10/dist-packages (from torch-geometric) (1.26.4)\n",
            "Requirement already satisfied: scipy in /usr/local/lib/python3.10/dist-packages (from torch-geometric) (1.13.1)\n",
            "Requirement already satisfied: fsspec in /usr/local/lib/python3.10/dist-packages (from torch-geometric) (2024.6.1)\n",
            "Requirement already satisfied: jinja2 in /usr/local/lib/python3.10/dist-packages (from torch-geometric) (3.1.4)\n",
            "Requirement already satisfied: aiohttp in /usr/local/lib/python3.10/dist-packages (from torch-geometric) (3.9.5)\n",
            "Requirement already satisfied: requests in /usr/local/lib/python3.10/dist-packages (from torch-geometric) (2.31.0)\n",
            "Requirement already satisfied: pyparsing in /usr/local/lib/python3.10/dist-packages (from torch-geometric) (3.1.2)\n",
            "Requirement already satisfied: scikit-learn in /usr/local/lib/python3.10/dist-packages (from torch-geometric) (1.3.2)\n",
            "Requirement already satisfied: psutil>=5.8.0 in /usr/local/lib/python3.10/dist-packages (from torch-geometric) (5.9.5)\n",
            "Requirement already satisfied: aiosignal>=1.1.2 in /usr/local/lib/python3.10/dist-packages (from aiohttp->torch-geometric) (1.3.1)\n",
            "Requirement already satisfied: attrs>=17.3.0 in /usr/local/lib/python3.10/dist-packages (from aiohttp->torch-geometric) (23.2.0)\n",
            "Requirement already satisfied: frozenlist>=1.1.1 in /usr/local/lib/python3.10/dist-packages (from aiohttp->torch-geometric) (1.4.1)\n",
            "Requirement already satisfied: multidict<7.0,>=4.5 in /usr/local/lib/python3.10/dist-packages (from aiohttp->torch-geometric) (6.0.5)\n",
            "Requirement already satisfied: yarl<2.0,>=1.0 in /usr/local/lib/python3.10/dist-packages (from aiohttp->torch-geometric) (1.9.4)\n",
            "Requirement already satisfied: async-timeout<5.0,>=4.0 in /usr/local/lib/python3.10/dist-packages (from aiohttp->torch-geometric) (4.0.3)\n",
            "Requirement already satisfied: MarkupSafe>=2.0 in /usr/local/lib/python3.10/dist-packages (from jinja2->torch-geometric) (2.1.5)\n",
            "Requirement already satisfied: charset-normalizer<4,>=2 in /usr/local/lib/python3.10/dist-packages (from requests->torch-geometric) (3.3.2)\n",
            "Requirement already satisfied: idna<4,>=2.5 in /usr/local/lib/python3.10/dist-packages (from requests->torch-geometric) (3.7)\n",
            "Requirement already satisfied: urllib3<3,>=1.21.1 in /usr/local/lib/python3.10/dist-packages (from requests->torch-geometric) (2.0.7)\n",
            "Requirement already satisfied: certifi>=2017.4.17 in /usr/local/lib/python3.10/dist-packages (from requests->torch-geometric) (2024.7.4)\n",
            "Requirement already satisfied: joblib>=1.1.1 in /usr/local/lib/python3.10/dist-packages (from scikit-learn->torch-geometric) (1.4.2)\n",
            "Requirement already satisfied: threadpoolctl>=2.0.0 in /usr/local/lib/python3.10/dist-packages (from scikit-learn->torch-geometric) (3.5.0)\n"
          ]
        }
      ]
    },
    {
      "cell_type": "code",
      "source": [
        "import numpy as np\n",
        "import pandas as pd\n",
        "import scipy.sparse as sp\n",
        "import torch\n",
        "from torch.utils.data import DataLoader, Dataset\n",
        "from torch_geometric.nn import GCNConv, GATConv, GraphConv, SAGEConv\n",
        "from tqdm import tqdm, trange\n",
        "from torch.utils.data import DataLoader, Dataset\n",
        "from IPython import embed\n",
        "from statistics import mean\n",
        "from sklearn.metrics import roc_auc_score\n",
        "from torch_geometric.utils import from_scipy_sparse_matrix\n",
        "from scipy.sparse import identity, coo_matrix"
      ],
      "metadata": {
        "id": "I98DUaYHG--Y"
      },
      "execution_count": 3,
      "outputs": []
    },
    {
      "cell_type": "code",
      "source": [
        "%load_ext tensorboard"
      ],
      "metadata": {
        "id": "02vBiel9HHik"
      },
      "execution_count": 4,
      "outputs": []
    },
    {
      "cell_type": "code",
      "source": [
        "import os\n",
        "logs_dir = \"runs\"\n",
        "os.makedirs(logs_dir, exist_ok=True)"
      ],
      "metadata": {
        "id": "z4YsZFEIHNe8"
      },
      "execution_count": 5,
      "outputs": []
    },
    {
      "cell_type": "code",
      "source": [
        "from torch.utils.tensorboard import SummaryWriter\n",
        "\n",
        "tb_gcn = SummaryWriter(log_dir=f'{logs_dir}/{logs_dir}_NGCF/')"
      ],
      "metadata": {
        "id": "2AcpsWwVHdxb"
      },
      "execution_count": 6,
      "outputs": []
    },
    {
      "cell_type": "code",
      "source": [
        "if not os.path.exists('ml-100k'):\n",
        "    !wget \"https://files.grouplens.org/datasets/movielens/ml-100k.zip\"\n",
        "    !unzip \"ml-100k.zip\""
      ],
      "metadata": {
        "id": "mzBR23nWHjWv"
      },
      "execution_count": 7,
      "outputs": []
    },
    {
      "cell_type": "code",
      "source": [
        "def ml100k_dataset(path='ml-100k'):\n",
        "\n",
        "    if not os.path.exists(os.path.join(path, 'interactions.csv')):\n",
        "\n",
        "        df = pd.read_csv(os.path.join(path, \"u.data\"), delimiter='\\t',\n",
        "                         names=['user','item','rating','timestamp'])\n",
        "\n",
        "        df['user'] = pd.Categorical(df['user']).codes\n",
        "        df['item'] = pd.Categorical(df['item']).codes\n",
        "        df['rating'] = 1\n",
        "\n",
        "        df.to_csv(os.path.join(path, 'interactions.csv'), index=False)\n",
        "    else:\n",
        "        df = pd.read_csv(os.path.join(path, 'interactions.csv'))\n",
        "    return df\n",
        "\n",
        "df = ml100k_dataset()"
      ],
      "metadata": {
        "id": "Ybicm3abIqSK"
      },
      "execution_count": 8,
      "outputs": []
    },
    {
      "cell_type": "code",
      "source": [
        "df"
      ],
      "metadata": {
        "colab": {
          "base_uri": "https://localhost:8080/",
          "height": 424
        },
        "id": "DlUKe1jvsjQD",
        "outputId": "c75fb2f5-0780-4432-ee5c-1b13e120ebbe"
      },
      "execution_count": 9,
      "outputs": [
        {
          "output_type": "execute_result",
          "data": {
            "text/plain": [
              "       user  item  rating  timestamp\n",
              "0       195   241       1  881250949\n",
              "1       185   301       1  891717742\n",
              "2        21   376       1  878887116\n",
              "3       243    50       1  880606923\n",
              "4       165   345       1  886397596\n",
              "...     ...   ...     ...        ...\n",
              "99995   879   475       1  880175444\n",
              "99996   715   203       1  879795543\n",
              "99997   275  1089       1  874795795\n",
              "99998    12   224       1  882399156\n",
              "99999    11   202       1  879959583\n",
              "\n",
              "[100000 rows x 4 columns]"
            ],
            "text/html": [
              "\n",
              "  <div id=\"df-297a98cc-07af-4a83-90c1-9669ca680aba\" class=\"colab-df-container\">\n",
              "    <div>\n",
              "<style scoped>\n",
              "    .dataframe tbody tr th:only-of-type {\n",
              "        vertical-align: middle;\n",
              "    }\n",
              "\n",
              "    .dataframe tbody tr th {\n",
              "        vertical-align: top;\n",
              "    }\n",
              "\n",
              "    .dataframe thead th {\n",
              "        text-align: right;\n",
              "    }\n",
              "</style>\n",
              "<table border=\"1\" class=\"dataframe\">\n",
              "  <thead>\n",
              "    <tr style=\"text-align: right;\">\n",
              "      <th></th>\n",
              "      <th>user</th>\n",
              "      <th>item</th>\n",
              "      <th>rating</th>\n",
              "      <th>timestamp</th>\n",
              "    </tr>\n",
              "  </thead>\n",
              "  <tbody>\n",
              "    <tr>\n",
              "      <th>0</th>\n",
              "      <td>195</td>\n",
              "      <td>241</td>\n",
              "      <td>1</td>\n",
              "      <td>881250949</td>\n",
              "    </tr>\n",
              "    <tr>\n",
              "      <th>1</th>\n",
              "      <td>185</td>\n",
              "      <td>301</td>\n",
              "      <td>1</td>\n",
              "      <td>891717742</td>\n",
              "    </tr>\n",
              "    <tr>\n",
              "      <th>2</th>\n",
              "      <td>21</td>\n",
              "      <td>376</td>\n",
              "      <td>1</td>\n",
              "      <td>878887116</td>\n",
              "    </tr>\n",
              "    <tr>\n",
              "      <th>3</th>\n",
              "      <td>243</td>\n",
              "      <td>50</td>\n",
              "      <td>1</td>\n",
              "      <td>880606923</td>\n",
              "    </tr>\n",
              "    <tr>\n",
              "      <th>4</th>\n",
              "      <td>165</td>\n",
              "      <td>345</td>\n",
              "      <td>1</td>\n",
              "      <td>886397596</td>\n",
              "    </tr>\n",
              "    <tr>\n",
              "      <th>...</th>\n",
              "      <td>...</td>\n",
              "      <td>...</td>\n",
              "      <td>...</td>\n",
              "      <td>...</td>\n",
              "    </tr>\n",
              "    <tr>\n",
              "      <th>99995</th>\n",
              "      <td>879</td>\n",
              "      <td>475</td>\n",
              "      <td>1</td>\n",
              "      <td>880175444</td>\n",
              "    </tr>\n",
              "    <tr>\n",
              "      <th>99996</th>\n",
              "      <td>715</td>\n",
              "      <td>203</td>\n",
              "      <td>1</td>\n",
              "      <td>879795543</td>\n",
              "    </tr>\n",
              "    <tr>\n",
              "      <th>99997</th>\n",
              "      <td>275</td>\n",
              "      <td>1089</td>\n",
              "      <td>1</td>\n",
              "      <td>874795795</td>\n",
              "    </tr>\n",
              "    <tr>\n",
              "      <th>99998</th>\n",
              "      <td>12</td>\n",
              "      <td>224</td>\n",
              "      <td>1</td>\n",
              "      <td>882399156</td>\n",
              "    </tr>\n",
              "    <tr>\n",
              "      <th>99999</th>\n",
              "      <td>11</td>\n",
              "      <td>202</td>\n",
              "      <td>1</td>\n",
              "      <td>879959583</td>\n",
              "    </tr>\n",
              "  </tbody>\n",
              "</table>\n",
              "<p>100000 rows × 4 columns</p>\n",
              "</div>\n",
              "    <div class=\"colab-df-buttons\">\n",
              "\n",
              "  <div class=\"colab-df-container\">\n",
              "    <button class=\"colab-df-convert\" onclick=\"convertToInteractive('df-297a98cc-07af-4a83-90c1-9669ca680aba')\"\n",
              "            title=\"Convert this dataframe to an interactive table.\"\n",
              "            style=\"display:none;\">\n",
              "\n",
              "  <svg xmlns=\"http://www.w3.org/2000/svg\" height=\"24px\" viewBox=\"0 -960 960 960\">\n",
              "    <path d=\"M120-120v-720h720v720H120Zm60-500h600v-160H180v160Zm220 220h160v-160H400v160Zm0 220h160v-160H400v160ZM180-400h160v-160H180v160Zm440 0h160v-160H620v160ZM180-180h160v-160H180v160Zm440 0h160v-160H620v160Z\"/>\n",
              "  </svg>\n",
              "    </button>\n",
              "\n",
              "  <style>\n",
              "    .colab-df-container {\n",
              "      display:flex;\n",
              "      gap: 12px;\n",
              "    }\n",
              "\n",
              "    .colab-df-convert {\n",
              "      background-color: #E8F0FE;\n",
              "      border: none;\n",
              "      border-radius: 50%;\n",
              "      cursor: pointer;\n",
              "      display: none;\n",
              "      fill: #1967D2;\n",
              "      height: 32px;\n",
              "      padding: 0 0 0 0;\n",
              "      width: 32px;\n",
              "    }\n",
              "\n",
              "    .colab-df-convert:hover {\n",
              "      background-color: #E2EBFA;\n",
              "      box-shadow: 0px 1px 2px rgba(60, 64, 67, 0.3), 0px 1px 3px 1px rgba(60, 64, 67, 0.15);\n",
              "      fill: #174EA6;\n",
              "    }\n",
              "\n",
              "    .colab-df-buttons div {\n",
              "      margin-bottom: 4px;\n",
              "    }\n",
              "\n",
              "    [theme=dark] .colab-df-convert {\n",
              "      background-color: #3B4455;\n",
              "      fill: #D2E3FC;\n",
              "    }\n",
              "\n",
              "    [theme=dark] .colab-df-convert:hover {\n",
              "      background-color: #434B5C;\n",
              "      box-shadow: 0px 1px 3px 1px rgba(0, 0, 0, 0.15);\n",
              "      filter: drop-shadow(0px 1px 2px rgba(0, 0, 0, 0.3));\n",
              "      fill: #FFFFFF;\n",
              "    }\n",
              "  </style>\n",
              "\n",
              "    <script>\n",
              "      const buttonEl =\n",
              "        document.querySelector('#df-297a98cc-07af-4a83-90c1-9669ca680aba button.colab-df-convert');\n",
              "      buttonEl.style.display =\n",
              "        google.colab.kernel.accessAllowed ? 'block' : 'none';\n",
              "\n",
              "      async function convertToInteractive(key) {\n",
              "        const element = document.querySelector('#df-297a98cc-07af-4a83-90c1-9669ca680aba');\n",
              "        const dataTable =\n",
              "          await google.colab.kernel.invokeFunction('convertToInteractive',\n",
              "                                                    [key], {});\n",
              "        if (!dataTable) return;\n",
              "\n",
              "        const docLinkHtml = 'Like what you see? Visit the ' +\n",
              "          '<a target=\"_blank\" href=https://colab.research.google.com/notebooks/data_table.ipynb>data table notebook</a>'\n",
              "          + ' to learn more about interactive tables.';\n",
              "        element.innerHTML = '';\n",
              "        dataTable['output_type'] = 'display_data';\n",
              "        await google.colab.output.renderOutput(dataTable, element);\n",
              "        const docLink = document.createElement('div');\n",
              "        docLink.innerHTML = docLinkHtml;\n",
              "        element.appendChild(docLink);\n",
              "      }\n",
              "    </script>\n",
              "  </div>\n",
              "\n",
              "\n",
              "<div id=\"df-e4698a16-a75c-4324-a78b-342119229dd1\">\n",
              "  <button class=\"colab-df-quickchart\" onclick=\"quickchart('df-e4698a16-a75c-4324-a78b-342119229dd1')\"\n",
              "            title=\"Suggest charts\"\n",
              "            style=\"display:none;\">\n",
              "\n",
              "<svg xmlns=\"http://www.w3.org/2000/svg\" height=\"24px\"viewBox=\"0 0 24 24\"\n",
              "     width=\"24px\">\n",
              "    <g>\n",
              "        <path d=\"M19 3H5c-1.1 0-2 .9-2 2v14c0 1.1.9 2 2 2h14c1.1 0 2-.9 2-2V5c0-1.1-.9-2-2-2zM9 17H7v-7h2v7zm4 0h-2V7h2v10zm4 0h-2v-4h2v4z\"/>\n",
              "    </g>\n",
              "</svg>\n",
              "  </button>\n",
              "\n",
              "<style>\n",
              "  .colab-df-quickchart {\n",
              "      --bg-color: #E8F0FE;\n",
              "      --fill-color: #1967D2;\n",
              "      --hover-bg-color: #E2EBFA;\n",
              "      --hover-fill-color: #174EA6;\n",
              "      --disabled-fill-color: #AAA;\n",
              "      --disabled-bg-color: #DDD;\n",
              "  }\n",
              "\n",
              "  [theme=dark] .colab-df-quickchart {\n",
              "      --bg-color: #3B4455;\n",
              "      --fill-color: #D2E3FC;\n",
              "      --hover-bg-color: #434B5C;\n",
              "      --hover-fill-color: #FFFFFF;\n",
              "      --disabled-bg-color: #3B4455;\n",
              "      --disabled-fill-color: #666;\n",
              "  }\n",
              "\n",
              "  .colab-df-quickchart {\n",
              "    background-color: var(--bg-color);\n",
              "    border: none;\n",
              "    border-radius: 50%;\n",
              "    cursor: pointer;\n",
              "    display: none;\n",
              "    fill: var(--fill-color);\n",
              "    height: 32px;\n",
              "    padding: 0;\n",
              "    width: 32px;\n",
              "  }\n",
              "\n",
              "  .colab-df-quickchart:hover {\n",
              "    background-color: var(--hover-bg-color);\n",
              "    box-shadow: 0 1px 2px rgba(60, 64, 67, 0.3), 0 1px 3px 1px rgba(60, 64, 67, 0.15);\n",
              "    fill: var(--button-hover-fill-color);\n",
              "  }\n",
              "\n",
              "  .colab-df-quickchart-complete:disabled,\n",
              "  .colab-df-quickchart-complete:disabled:hover {\n",
              "    background-color: var(--disabled-bg-color);\n",
              "    fill: var(--disabled-fill-color);\n",
              "    box-shadow: none;\n",
              "  }\n",
              "\n",
              "  .colab-df-spinner {\n",
              "    border: 2px solid var(--fill-color);\n",
              "    border-color: transparent;\n",
              "    border-bottom-color: var(--fill-color);\n",
              "    animation:\n",
              "      spin 1s steps(1) infinite;\n",
              "  }\n",
              "\n",
              "  @keyframes spin {\n",
              "    0% {\n",
              "      border-color: transparent;\n",
              "      border-bottom-color: var(--fill-color);\n",
              "      border-left-color: var(--fill-color);\n",
              "    }\n",
              "    20% {\n",
              "      border-color: transparent;\n",
              "      border-left-color: var(--fill-color);\n",
              "      border-top-color: var(--fill-color);\n",
              "    }\n",
              "    30% {\n",
              "      border-color: transparent;\n",
              "      border-left-color: var(--fill-color);\n",
              "      border-top-color: var(--fill-color);\n",
              "      border-right-color: var(--fill-color);\n",
              "    }\n",
              "    40% {\n",
              "      border-color: transparent;\n",
              "      border-right-color: var(--fill-color);\n",
              "      border-top-color: var(--fill-color);\n",
              "    }\n",
              "    60% {\n",
              "      border-color: transparent;\n",
              "      border-right-color: var(--fill-color);\n",
              "    }\n",
              "    80% {\n",
              "      border-color: transparent;\n",
              "      border-right-color: var(--fill-color);\n",
              "      border-bottom-color: var(--fill-color);\n",
              "    }\n",
              "    90% {\n",
              "      border-color: transparent;\n",
              "      border-bottom-color: var(--fill-color);\n",
              "    }\n",
              "  }\n",
              "</style>\n",
              "\n",
              "  <script>\n",
              "    async function quickchart(key) {\n",
              "      const quickchartButtonEl =\n",
              "        document.querySelector('#' + key + ' button');\n",
              "      quickchartButtonEl.disabled = true;  // To prevent multiple clicks.\n",
              "      quickchartButtonEl.classList.add('colab-df-spinner');\n",
              "      try {\n",
              "        const charts = await google.colab.kernel.invokeFunction(\n",
              "            'suggestCharts', [key], {});\n",
              "      } catch (error) {\n",
              "        console.error('Error during call to suggestCharts:', error);\n",
              "      }\n",
              "      quickchartButtonEl.classList.remove('colab-df-spinner');\n",
              "      quickchartButtonEl.classList.add('colab-df-quickchart-complete');\n",
              "    }\n",
              "    (() => {\n",
              "      let quickchartButtonEl =\n",
              "        document.querySelector('#df-e4698a16-a75c-4324-a78b-342119229dd1 button');\n",
              "      quickchartButtonEl.style.display =\n",
              "        google.colab.kernel.accessAllowed ? 'block' : 'none';\n",
              "    })();\n",
              "  </script>\n",
              "</div>\n",
              "\n",
              "  <div id=\"id_b0187731-6651-411f-9eae-eca082bcdbbe\">\n",
              "    <style>\n",
              "      .colab-df-generate {\n",
              "        background-color: #E8F0FE;\n",
              "        border: none;\n",
              "        border-radius: 50%;\n",
              "        cursor: pointer;\n",
              "        display: none;\n",
              "        fill: #1967D2;\n",
              "        height: 32px;\n",
              "        padding: 0 0 0 0;\n",
              "        width: 32px;\n",
              "      }\n",
              "\n",
              "      .colab-df-generate:hover {\n",
              "        background-color: #E2EBFA;\n",
              "        box-shadow: 0px 1px 2px rgba(60, 64, 67, 0.3), 0px 1px 3px 1px rgba(60, 64, 67, 0.15);\n",
              "        fill: #174EA6;\n",
              "      }\n",
              "\n",
              "      [theme=dark] .colab-df-generate {\n",
              "        background-color: #3B4455;\n",
              "        fill: #D2E3FC;\n",
              "      }\n",
              "\n",
              "      [theme=dark] .colab-df-generate:hover {\n",
              "        background-color: #434B5C;\n",
              "        box-shadow: 0px 1px 3px 1px rgba(0, 0, 0, 0.15);\n",
              "        filter: drop-shadow(0px 1px 2px rgba(0, 0, 0, 0.3));\n",
              "        fill: #FFFFFF;\n",
              "      }\n",
              "    </style>\n",
              "    <button class=\"colab-df-generate\" onclick=\"generateWithVariable('df')\"\n",
              "            title=\"Generate code using this dataframe.\"\n",
              "            style=\"display:none;\">\n",
              "\n",
              "  <svg xmlns=\"http://www.w3.org/2000/svg\" height=\"24px\"viewBox=\"0 0 24 24\"\n",
              "       width=\"24px\">\n",
              "    <path d=\"M7,19H8.4L18.45,9,17,7.55,7,17.6ZM5,21V16.75L18.45,3.32a2,2,0,0,1,2.83,0l1.4,1.43a1.91,1.91,0,0,1,.58,1.4,1.91,1.91,0,0,1-.58,1.4L9.25,21ZM18.45,9,17,7.55Zm-12,3A5.31,5.31,0,0,0,4.9,8.1,5.31,5.31,0,0,0,1,6.5,5.31,5.31,0,0,0,4.9,4.9,5.31,5.31,0,0,0,6.5,1,5.31,5.31,0,0,0,8.1,4.9,5.31,5.31,0,0,0,12,6.5,5.46,5.46,0,0,0,6.5,12Z\"/>\n",
              "  </svg>\n",
              "    </button>\n",
              "    <script>\n",
              "      (() => {\n",
              "      const buttonEl =\n",
              "        document.querySelector('#id_b0187731-6651-411f-9eae-eca082bcdbbe button.colab-df-generate');\n",
              "      buttonEl.style.display =\n",
              "        google.colab.kernel.accessAllowed ? 'block' : 'none';\n",
              "\n",
              "      buttonEl.onclick = () => {\n",
              "        google.colab.notebook.generateWithVariable('df');\n",
              "      }\n",
              "      })();\n",
              "    </script>\n",
              "  </div>\n",
              "\n",
              "    </div>\n",
              "  </div>\n"
            ],
            "application/vnd.google.colaboratory.intrinsic+json": {
              "type": "dataframe",
              "variable_name": "df",
              "summary": "{\n  \"name\": \"df\",\n  \"rows\": 100000,\n  \"fields\": [\n    {\n      \"column\": \"user\",\n      \"properties\": {\n        \"dtype\": \"number\",\n        \"std\": 266,\n        \"min\": 0,\n        \"max\": 942,\n        \"num_unique_values\": 943,\n        \"samples\": [\n          261,\n          135,\n          820\n        ],\n        \"semantic_type\": \"\",\n        \"description\": \"\"\n      }\n    },\n    {\n      \"column\": \"item\",\n      \"properties\": {\n        \"dtype\": \"number\",\n        \"std\": 330,\n        \"min\": 0,\n        \"max\": 1681,\n        \"num_unique_values\": 1682,\n        \"samples\": [\n          1556,\n          807,\n          1617\n        ],\n        \"semantic_type\": \"\",\n        \"description\": \"\"\n      }\n    },\n    {\n      \"column\": \"rating\",\n      \"properties\": {\n        \"dtype\": \"number\",\n        \"std\": 0,\n        \"min\": 1,\n        \"max\": 1,\n        \"num_unique_values\": 1,\n        \"samples\": [\n          1\n        ],\n        \"semantic_type\": \"\",\n        \"description\": \"\"\n      }\n    },\n    {\n      \"column\": \"timestamp\",\n      \"properties\": {\n        \"dtype\": \"number\",\n        \"std\": 5343856,\n        \"min\": 874724710,\n        \"max\": 893286638,\n        \"num_unique_values\": 49282,\n        \"samples\": [\n          889728713\n        ],\n        \"semantic_type\": \"\",\n        \"description\": \"\"\n      }\n    }\n  ]\n}"
            }
          },
          "metadata": {},
          "execution_count": 9
        }
      ]
    },
    {
      "cell_type": "code",
      "source": [
        "def split_train_test(data, n_users):\n",
        "    # Convert to DataFrame for easier manipulation\n",
        "    df = pd.DataFrame(data, columns=['user_id', 'item_id', 'timestamp'])\n",
        "\n",
        "    train_x = []\n",
        "    test_x = []\n",
        "\n",
        "    for u in trange(n_users, desc='Splitting train/test and removing timestamp...'):\n",
        "        user_data = df[df['user_id'] == u]\n",
        "        if user_data.empty:\n",
        "            continue\n",
        "\n",
        "        user_data = user_data.sort_values(by='timestamp')\n",
        "\n",
        "        if len(user_data) == 1:\n",
        "            train_x.append(user_data.iloc[0][['user_id', 'item_id']].values)\n",
        "        else:\n",
        "            train_x.append(user_data.iloc[:-1][['user_id', 'item_id']].values)\n",
        "            test_x.append(user_data.iloc[-1][['user_id', 'item_id']].values)\n",
        "\n",
        "    return np.vstack(train_x), np.vstack(test_x)\n",
        "\n",
        "##### SHOULD CHANGE THE DATA VALUE ####\n",
        "data = df[['user', 'item', 'timestamp']].astype('int32').to_numpy()\n",
        "n_users = len(np.unique(data[:, 0]))\n",
        "\n",
        "train_data, test_data = split_train_test(data, n_users)"
      ],
      "metadata": {
        "colab": {
          "base_uri": "https://localhost:8080/"
        },
        "id": "p4OMD-iwJS5M",
        "outputId": "c265e971-20b4-4f72-d6c4-ff4737837f91"
      },
      "execution_count": 10,
      "outputs": [
        {
          "output_type": "stream",
          "name": "stderr",
          "text": [
            "Splitting train/test and removing timestamp...: 100%|██████████| 943/943 [00:03<00:00, 257.12it/s]\n"
          ]
        }
      ]
    },
    {
      "cell_type": "code",
      "source": [
        "train_data"
      ],
      "metadata": {
        "colab": {
          "base_uri": "https://localhost:8080/"
        },
        "id": "ZkS6sisWa4Rj",
        "outputId": "07beb3b8-c5fa-4fbd-9ecd-475ca24afa46"
      },
      "execution_count": 11,
      "outputs": [
        {
          "output_type": "execute_result",
          "data": {
            "text/plain": [
              "array([[  0, 171],\n",
              "       [  0, 167],\n",
              "       [  0, 164],\n",
              "       ...,\n",
              "       [942, 229],\n",
              "       [942, 228],\n",
              "       [942, 448]], dtype=int32)"
            ]
          },
          "metadata": {},
          "execution_count": 11
        }
      ]
    },
    {
      "cell_type": "code",
      "source": [
        "# dims = [min_item_id, max_item_id, max_user_id]\n",
        "add_dims=0\n",
        "for i in range(data.shape[1] - 1):\n",
        "\n",
        "    data[:, i] -= np.min(data[:, i])\n",
        "    data[:, i] += add_dims\n",
        "    add_dims = np.max(data[:, i]) + 1\n",
        "\n",
        "dims = np.max(data, axis=0) + 1"
      ],
      "metadata": {
        "id": "zbxPEkIEJlK_"
      },
      "execution_count": 12,
      "outputs": []
    },
    {
      "cell_type": "code",
      "source": [
        "assert train_data.shape[0] + test_data.shape[0] == 100000"
      ],
      "metadata": {
        "id": "Qyc4TCB0Jvap"
      },
      "execution_count": 13,
      "outputs": []
    },
    {
      "cell_type": "code",
      "source": [
        "train_data = train_data[:, :2]\n",
        "dims = dims[:2]\n",
        "# dims = [min_item_id, max_item_id, max_user_id]"
      ],
      "metadata": {
        "id": "WrljpfKVJy-p"
      },
      "execution_count": 14,
      "outputs": []
    },
    {
      "cell_type": "code",
      "source": [
        "def construct_interaction_mat(n_features, data):\n",
        "    train_mat = sp.dok_matrix((n_features, n_features), dtype=np.float32)\n",
        "    for x in tqdm(data, desc=f\"BUILDING ADJACENCY MATRIX...\"):\n",
        "        train_mat[x[0], x[1]] = 1.0\n",
        "        train_mat[x[1], x[0]] = 1.0\n",
        "\n",
        "        if data.shape[1] > 2:\n",
        "            for idx in range(len(x[2:])):\n",
        "                train_mat[x[0], x[2 + idx]] = 1.0\n",
        "                train_mat[x[1], x[2 + idx]] = 1.0\n",
        "                train_mat[x[2 + idx], x[0]] = 1.0\n",
        "                train_mat[x[2 + idx], x[1]] = 1.0\n",
        "    return train_mat"
      ],
      "metadata": {
        "id": "8ulB6tmWJ11S"
      },
      "execution_count": 17,
      "outputs": []
    },
    {
      "cell_type": "code",
      "source": [
        "def ng_sample(data, dims, num_ng=4):\n",
        "    rating_mat = construct_interaction_mat(dims[-1], data)\n",
        "    interactions = []\n",
        "    min_item, max_item = dims[0], dims[1]\n",
        "\n",
        "    data_df = pd.DataFrame(data, columns=['user_id', 'item_id'])\n",
        "\n",
        "    for _, row in tqdm(data_df.iterrows(), desc='PERFORMING NEGATIVE SAMPLING...', total=len(data_df)):\n",
        "        user, item = int(row['user_id']), int(row['item_id'])\n",
        "        interactions.append([user, item, 1])\n",
        "\n",
        "        for _ in range(num_ng):\n",
        "            j = np.random.randint(min_item, max_item)\n",
        "            while rating_mat[user, j] != 0 or j == item:\n",
        "                j = np.random.randint(min_item, max_item)\n",
        "            interactions.append([user, j, 0])\n",
        "\n",
        "    interactions = np.array(interactions)\n",
        "    return interactions, rating_mat\n",
        "\n",
        "train_data, rating_mat = ng_sample(train_data, dims)"
      ],
      "metadata": {
        "colab": {
          "base_uri": "https://localhost:8080/"
        },
        "id": "uzHXsOIneUfz",
        "outputId": "948c9811-54f6-48d3-dfd0-cb60b545ac10"
      },
      "execution_count": 18,
      "outputs": [
        {
          "output_type": "stream",
          "name": "stderr",
          "text": [
            "BUILDING ADJACENCY MATRIX...: 100%|██████████| 99057/99057 [00:01<00:00, 52726.35it/s]\n",
            "PERFORMING NEGATIVE SAMPLING...: 100%|██████████| 99057/99057 [00:17<00:00, 5630.50it/s]\n"
          ]
        }
      ]
    },
    {
      "cell_type": "code",
      "source": [
        "train_data"
      ],
      "metadata": {
        "colab": {
          "base_uri": "https://localhost:8080/"
        },
        "id": "lJ14nLuMdY4U",
        "outputId": "21f1ce28-6dd7-4e71-9a27-976a83acd852"
      },
      "execution_count": 19,
      "outputs": [
        {
          "output_type": "execute_result",
          "data": {
            "text/plain": [
              "array([[   0,  171,    1],\n",
              "       [   0, 1452,    0],\n",
              "       [   0, 2242,    0],\n",
              "       ...,\n",
              "       [ 942, 1799,    0],\n",
              "       [ 942, 1615,    0],\n",
              "       [ 942, 1090,    0]])"
            ]
          },
          "metadata": {},
          "execution_count": 19
        }
      ]
    },
    {
      "cell_type": "code",
      "source": [
        "rating_mat"
      ],
      "metadata": {
        "colab": {
          "base_uri": "https://localhost:8080/"
        },
        "id": "nCAg9pm4dgGe",
        "outputId": "5a6b8490-b674-40df-ab41-2f73fceee059"
      },
      "execution_count": 20,
      "outputs": [
        {
          "output_type": "execute_result",
          "data": {
            "text/plain": [
              "<2625x2625 sparse matrix of type '<class 'numpy.float32'>'\n",
              "\twith 188061 stored elements in Dictionary Of Keys format>"
            ]
          },
          "metadata": {},
          "execution_count": 20
        }
      ]
    },
    {
      "cell_type": "code",
      "source": [
        "###\n",
        "def ng_sample(data, dims, num_ng=4):\n",
        "    rating_mat = construct_interaction_mat(dims[-1], data)\n",
        "    interactions = []\n",
        "    min_item, max_item = dims[0], dims[1]\n",
        "    for num, x in tqdm(enumerate(data), desc='perform negative sampling...'):\n",
        "        interactions.append(np.append(x, 1))\n",
        "        for t in range(num_ng):\n",
        "            j = np.random.randint(min_item, max_item) #if not pop else random.sample(items_to_sample, 1)[0]\n",
        "            # IDEA: Loop to exclude true interactions (set to 1 in adj_train) user - item\n",
        "            while (x[0], j) in rating_mat or j == int(x[1]):\n",
        "                j = np.random.randint(min_item, max_item) #if not pop else random.sample(items_to_sample, 1)[0]\n",
        "            interactions.append(np.concatenate([[x[0], j], x[2:], [0]]))\n",
        "    return np.vstack(interactions), rating_mat\n",
        "\n",
        "train_data, rating_mat = ng_sample(train_data, dims)"
      ],
      "metadata": {
        "id": "7IwjnzcaKwt_"
      },
      "execution_count": null,
      "outputs": []
    },
    {
      "cell_type": "code",
      "source": [
        "class PointData(Dataset):\n",
        "    def __init__(self, train_data, dims):\n",
        "        super(PointData, self).__init__()\n",
        "        self.interactions = train_data\n",
        "        self.dims = dims\n",
        "\n",
        "    def __len__(self):\n",
        "        return len(self.interactions)\n",
        "\n",
        "    def __getitem__(self, index):\n",
        "\n",
        "        return self.interactions[index][:-1], self.interactions[index][-1]\n",
        "\n",
        "train_dataset = PointData(train_data, dims)"
      ],
      "metadata": {
        "id": "UvpXv-I0Lieg"
      },
      "execution_count": 21,
      "outputs": []
    },
    {
      "cell_type": "code",
      "source": [
        "def compute_zero_positions_and_items(rating_mat, dims):\n",
        "    # Convert sparse matrix to dense array\n",
        "    dense_matrix = rating_mat.A\n",
        "\n",
        "    # Find zero positions\n",
        "    zero_positions = np.argwhere(dense_matrix == 0)\n",
        "\n",
        "    # Initialize items2compute list\n",
        "    compute_items = []\n",
        "\n",
        "    # Process users to find items to compute\n",
        "    for user in trange(dims[0], desc='Computing items to compute...'):\n",
        "        # Mask to find the zeros for the current user\n",
        "        user_mask = (zero_positions[:, 0] == user)\n",
        "        # Extract the item indices where the value is zero and is an item (greater than or equal to dims[0])\n",
        "        items_for_user = zero_positions[user_mask, 1]\n",
        "        items_to_compute = items_for_user[items_for_user >= dims[0]]\n",
        "        compute_items.append(items_to_compute)\n",
        "\n",
        "    return compute_items\n",
        "\n",
        "compute_items = compute_zero_positions_and_items(rating_mat, dims)"
      ],
      "metadata": {
        "colab": {
          "base_uri": "https://localhost:8080/"
        },
        "id": "FlMwvrNxPGLF",
        "outputId": "16584d5d-23a6-4768-f229-6290a3243507"
      },
      "execution_count": 23,
      "outputs": [
        {
          "output_type": "stream",
          "name": "stderr",
          "text": [
            "Computing items to compute...: 100%|██████████| 943/943 [00:17<00:00, 54.25it/s]\n"
          ]
        }
      ]
    },
    {
      "cell_type": "code",
      "source": [
        "def build_test_set(itemsnoninteracted, gt_test_interactions):\n",
        "    #max_users, max_items = dims # number users (943), number items (2625)\n",
        "    test_set = []\n",
        "    for pair, negatives in tqdm(zip(gt_test_interactions, itemsnoninteracted), desc=\"BUILDING TEST SET...\"):\n",
        "        # APPEND TEST SETS FOR SINGLE USER\n",
        "        negatives = np.delete(negatives, np.where(negatives == pair[1]))\n",
        "        single_user_test_set = np.vstack([pair, ] * (len(negatives)+1))\n",
        "        single_user_test_set[:, 1][1:] = negatives\n",
        "        test_set.append(single_user_test_set.copy())\n",
        "    return test_set\n",
        "\n",
        "test_dataset = build_test_set(compute_items, test_data)\n",
        "\n",
        "# Build A in an \"edge index\" format using torch_sparse library\n",
        "edge_idx, edge_attr = from_scipy_sparse_matrix(rating_mat)"
      ],
      "metadata": {
        "colab": {
          "base_uri": "https://localhost:8080/"
        },
        "id": "JotqNFE-L7VM",
        "outputId": "10f99450-d24a-491a-dad2-8649347ce67d"
      },
      "execution_count": 25,
      "outputs": [
        {
          "output_type": "stream",
          "name": "stderr",
          "text": [
            "BUILDING TEST SET...: 943it [00:01, 688.44it/s]\n"
          ]
        }
      ]
    },
    {
      "cell_type": "code",
      "source": [
        "# Build features or side-information (identity tensor for the moment) using an alternative method\n",
        "def build_sparse_mat_to_sparse_tensor(size):\n",
        "    \"\"\" Build identity features as a torch sparse tensor using PyTorch's native COO format.\"\"\"\n",
        "    identity_mat = identity(size).tocoo().astype(np.float32)\n",
        "    indices = torch.tensor([identity_mat.row, identity_mat.col], dtype=torch.int64)\n",
        "    values = torch.tensor(identity_mat.data, dtype=torch.float32)\n",
        "    shape = torch.Size(identity_mat.shape)\n",
        "    return torch.sparse_coo_tensor(indices, values, shape)\n",
        "\n",
        "X = build_sparse_mat_to_sparse_tensor(rating_mat.shape[0])"
      ],
      "metadata": {
        "colab": {
          "base_uri": "https://localhost:8080/"
        },
        "id": "LUiIask1kFnP",
        "outputId": "a4f6dbe4-779b-448e-d471-59b3346cac44"
      },
      "execution_count": 26,
      "outputs": [
        {
          "output_type": "stream",
          "name": "stderr",
          "text": [
            "<ipython-input-26-1024213cf275>:5: UserWarning: Creating a tensor from a list of numpy.ndarrays is extremely slow. Please consider converting the list to a single numpy.ndarray with numpy.array() before converting to a tensor. (Triggered internally at ../torch/csrc/utils/tensor_new.cpp:274.)\n",
            "  indices = torch.tensor([identity_mat.row, identity_mat.col], dtype=torch.int64)\n"
          ]
        }
      ]
    },
    {
      "cell_type": "code",
      "source": [
        "edge_idx"
      ],
      "metadata": {
        "colab": {
          "base_uri": "https://localhost:8080/"
        },
        "id": "jVNmZ14ykNHX",
        "outputId": "6a4d2f3f-cc79-4d18-d78d-7ec1534de914"
      },
      "execution_count": 27,
      "outputs": [
        {
          "output_type": "execute_result",
          "data": {
            "text/plain": [
              "tensor([[  0, 171,   0,  ..., 228, 942, 448],\n",
              "        [171,   0, 167,  ..., 942, 448, 942]])"
            ]
          },
          "metadata": {},
          "execution_count": 27
        }
      ]
    },
    {
      "cell_type": "code",
      "source": [
        "class FM_operation(torch.nn.Module):\n",
        "\n",
        "    def __init__(self, reduce_sum=True):\n",
        "        super().__init__()\n",
        "        self.reduce_sum = reduce_sum\n",
        "\n",
        "    def forward(self, x):\n",
        "        \"\"\"\n",
        "        :param x: Float tensor of size ``(batch_size, num_fields, embed_dim)``\n",
        "        \"\"\"\n",
        "        square_of_sum = torch.sum(x, dim=1) ** 2\n",
        "        sum_of_square = torch.sum(x ** 2, dim=1)\n",
        "        ix = square_of_sum - sum_of_square\n",
        "        if self.reduce_sum:\n",
        "            ix = torch.sum(ix, dim=1, keepdim=True)\n",
        "        return 0.5 * ix"
      ],
      "metadata": {
        "id": "kppMa-jBNZkT"
      },
      "execution_count": 28,
      "outputs": []
    },
    {
      "cell_type": "code",
      "source": [
        "class GCELayer(torch.nn.Module):\n",
        "    def __init__(self, field_dims, embed_dim, features, train_mat, attention=False, use_additional_gnn=False):\n",
        "        super(GCELayer, self).__init__()\n",
        "\n",
        "        self.A = train_mat\n",
        "        self.features = features\n",
        "        self.use_additional_gnn = use_additional_gnn\n",
        "\n",
        "        if attention:\n",
        "            self.GCN_module = GATConv(int(field_dims), embed_dim, heads=8, dropout=0.6)\n",
        "        else:\n",
        "            self.GCN_module = GCNConv(field_dims, embed_dim)\n",
        "\n",
        "        if use_additional_gnn:\n",
        "            self.gnn_layer1 = GraphConv(embed_dim, embed_dim)\n",
        "            self.gnn_layer2 = SAGEConv(embed_dim, embed_dim)\n",
        "            self.dropout = torch.nn.Dropout(0.5)\n",
        "            self.activation = torch.nn.ReLU()\n",
        "\n",
        "    def forward(self, x):\n",
        "        \"\"\"\n",
        "        :param x: Long tensor of size ``(batch_size, num_fields)``\n",
        "        \"\"\"\n",
        "        out = self.GCN_module(self.features, self.A)\n",
        "        if self.use_additional_gnn:\n",
        "            out = self.gnn_layer1(out, self.A)\n",
        "            out = self.activation(out)\n",
        "            out = self.dropout(out)\n",
        "            out = self.gnn_layer2(out, self.A)\n",
        "            out = self.activation(out)\n",
        "        return out[x]\n",
        "\n",
        "class FactorizationMachineModel_withGCN(torch.nn.Module):\n",
        "\n",
        "    def __init__(self, field_dims, embed_dim, X, A, attention=False, use_additional_gnn=False):\n",
        "        super(FactorizationMachineModel_withGCN, self).__init__()\n",
        "        self.linear = torch.nn.Linear(len(field_dims), 1)\n",
        "        self.embedding = GCELayer(field_dims[-1], embed_dim, X, A, attention=attention, use_additional_gnn=use_additional_gnn)\n",
        "        self.fm = FM_operation(reduce_sum=True)\n",
        "\n",
        "    def forward(self, interaction_pairs):\n",
        "        \"\"\"\n",
        "        :param interaction_pairs: Long tensor of size ``(batch_size, num_fields)``\n",
        "        \"\"\"\n",
        "        linear_out = self.linear(interaction_pairs.float())\n",
        "        embedding_out = self.embedding(interaction_pairs)\n",
        "        fm_out = self.fm(embedding_out)\n",
        "        return (linear_out + fm_out).squeeze(1)\n",
        "\n",
        "    def predict(self, interactions, device):\n",
        "        # Return the score, inputs are numpy arrays, outputs are tensors\n",
        "        test_interactions = torch.from_numpy(interactions).to(dtype=torch.long, device=device)\n",
        "        output_scores = self.forward(test_interactions)\n",
        "        return output_scores"
      ],
      "metadata": {
        "id": "Smj3n9ChMCb9"
      },
      "execution_count": 29,
      "outputs": []
    },
    {
      "cell_type": "code",
      "source": [
        "data_loader = DataLoader(train_dataset, batch_size=256, shuffle=True, num_workers=0)"
      ],
      "metadata": {
        "id": "xvWK6f7xkfpX"
      },
      "execution_count": 30,
      "outputs": []
    },
    {
      "cell_type": "code",
      "source": [
        "def getHitRatio(recommend_list, gt_item):\n",
        "    return int(gt_item in recommend_list)\n",
        "\n",
        "def getNDCG(recommend_list, gt_item):\n",
        "    if gt_item in recommend_list:\n",
        "        index = recommend_list.index(gt_item)\n",
        "        return 1 / (torch.log2(index + 2))\n",
        "    return 0\n",
        "\n",
        "def train_and_evaluate(model, optimizer, criterion, data_loader, device, test_data, tb, epochs=10, topk=10):\n",
        "    for epoch_i in trange(epochs, desc='Training'):\n",
        "        # Training phase\n",
        "        model.train()\n",
        "        total_loss = []\n",
        "        for interactions, targets in data_loader:\n",
        "            interactions = interactions.to(device)\n",
        "            targets = targets.to(device)\n",
        "\n",
        "            predictions = model(interactions)\n",
        "            loss = criterion(predictions, targets.float())\n",
        "            model.zero_grad()\n",
        "            loss.backward()\n",
        "            optimizer.step()\n",
        "            total_loss.append(loss.item())\n",
        "\n",
        "        train_loss = mean(total_loss)\n",
        "\n",
        "        # Evaluation phase\n",
        "        model.eval()\n",
        "        HR, NDCG = [], []\n",
        "        with torch.no_grad():\n",
        "            for user_test in test_dataset:\n",
        "                gt_item = user_test[0][1]\n",
        "                predictions = model.predict(user_test, device)\n",
        "                _, indices = torch.topk(predictions, topk)\n",
        "                recommend_list = user_test[indices.cpu().numpy()][:, 1]\n",
        "\n",
        "                HR.append(getHitRatio(recommend_list, gt_item))\n",
        "                NDCG.append(getNDCG(recommend_list, gt_item))\n",
        "\n",
        "        hr = mean(HR)\n",
        "        ndcg = mean(NDCG)\n",
        "\n",
        "        # Logging\n",
        "        tb.add_scalar('train/loss', train_loss, epoch_i)\n",
        "        tb.add_scalar(f'eval/HR@{topk}', hr, epoch_i)\n",
        "        tb.add_scalar(f'eval/NDCG@{topk}', ndcg, epoch_i)\n",
        "\n",
        "        print(f'Epoch {epoch_i}: Training loss = {train_loss:.4f} | HR@{topk} = {hr:.4f}, NDCG@{topk} = {ndcg:.4f}')"
      ],
      "metadata": {
        "id": "oKXNThJXNX1A"
      },
      "execution_count": 34,
      "outputs": []
    },
    {
      "cell_type": "code",
      "source": [
        "model_GCN = FactorizationMachineModel_withGCN(train_dataset.dims,\n",
        "                                              32,\n",
        "                                              X.to(device),\n",
        "                                              edge_idx.to(device),\n",
        "                                              ).to(device)\n",
        "\n",
        "GCN_criterion = torch.nn.BCEWithLogitsLoss(reduction='mean')\n",
        "GCN_optimizer = torch.optim.Adam(params=model_GCN.parameters(), lr=0.01)\n",
        "\n",
        "#model_GAT = FactorizationMachineModel_withGCN(train_dataset.dims,\n",
        "#                                                  32,\n",
        "#                                                  X.to(device),\n",
        "#                                                  edge_idx.to(device),\n",
        "#                                                  attention=True\n",
        "#                                                  ).to(device)\n",
        "\n",
        "#GAT_criterion = torch.nn.BCEWithLogitsLoss(reduction='mean')\n",
        "#GAT_optimizer = torch.optim.Adam(params=model_GAT.parameters(), lr=0.01)"
      ],
      "metadata": {
        "id": "OqkvMLbzWDr8"
      },
      "execution_count": 36,
      "outputs": []
    },
    {
      "cell_type": "code",
      "source": [
        "train_and_evaluate(model_GCN, GCN_optimizer, GCN_criterion, data_loader, device, test_dataset, tb_gcn)"
      ],
      "metadata": {
        "colab": {
          "base_uri": "https://localhost:8080/",
          "height": 304
        },
        "id": "LeG_YWnRWDok",
        "outputId": "6ef155da-3752-4ff0-98f4-3b794d12497d"
      },
      "execution_count": 37,
      "outputs": [
        {
          "output_type": "stream",
          "name": "stderr",
          "text": [
            "Training:   0%|          | 0/10 [00:10<?, ?it/s]\n"
          ]
        },
        {
          "output_type": "error",
          "ename": "AttributeError",
          "evalue": "'numpy.ndarray' object has no attribute 'index'",
          "traceback": [
            "\u001b[0;31m---------------------------------------------------------------------------\u001b[0m",
            "\u001b[0;31mAttributeError\u001b[0m                            Traceback (most recent call last)",
            "\u001b[0;32m<ipython-input-37-cfeecd748ce6>\u001b[0m in \u001b[0;36m<cell line: 1>\u001b[0;34m()\u001b[0m\n\u001b[0;32m----> 1\u001b[0;31m \u001b[0mtrain_and_evaluate\u001b[0m\u001b[0;34m(\u001b[0m\u001b[0mmodel_GCN\u001b[0m\u001b[0;34m,\u001b[0m \u001b[0mGCN_optimizer\u001b[0m\u001b[0;34m,\u001b[0m \u001b[0mGCN_criterion\u001b[0m\u001b[0;34m,\u001b[0m \u001b[0mdata_loader\u001b[0m\u001b[0;34m,\u001b[0m \u001b[0mdevice\u001b[0m\u001b[0;34m,\u001b[0m \u001b[0mtest_dataset\u001b[0m\u001b[0;34m,\u001b[0m \u001b[0mtb_gcn\u001b[0m\u001b[0;34m)\u001b[0m\u001b[0;34m\u001b[0m\u001b[0;34m\u001b[0m\u001b[0m\n\u001b[0m",
            "\u001b[0;32m<ipython-input-34-5f783a737273>\u001b[0m in \u001b[0;36mtrain_and_evaluate\u001b[0;34m(model, optimizer, criterion, data_loader, device, test_data, tb, epochs, topk)\u001b[0m\n\u001b[1;32m     37\u001b[0m \u001b[0;34m\u001b[0m\u001b[0m\n\u001b[1;32m     38\u001b[0m                 \u001b[0mHR\u001b[0m\u001b[0;34m.\u001b[0m\u001b[0mappend\u001b[0m\u001b[0;34m(\u001b[0m\u001b[0mgetHitRatio\u001b[0m\u001b[0;34m(\u001b[0m\u001b[0mrecommend_list\u001b[0m\u001b[0;34m,\u001b[0m \u001b[0mgt_item\u001b[0m\u001b[0;34m)\u001b[0m\u001b[0;34m)\u001b[0m\u001b[0;34m\u001b[0m\u001b[0;34m\u001b[0m\u001b[0m\n\u001b[0;32m---> 39\u001b[0;31m                 \u001b[0mNDCG\u001b[0m\u001b[0;34m.\u001b[0m\u001b[0mappend\u001b[0m\u001b[0;34m(\u001b[0m\u001b[0mgetNDCG\u001b[0m\u001b[0;34m(\u001b[0m\u001b[0mrecommend_list\u001b[0m\u001b[0;34m,\u001b[0m \u001b[0mgt_item\u001b[0m\u001b[0;34m)\u001b[0m\u001b[0;34m)\u001b[0m\u001b[0;34m\u001b[0m\u001b[0;34m\u001b[0m\u001b[0m\n\u001b[0m\u001b[1;32m     40\u001b[0m \u001b[0;34m\u001b[0m\u001b[0m\n\u001b[1;32m     41\u001b[0m         \u001b[0mhr\u001b[0m \u001b[0;34m=\u001b[0m \u001b[0mmean\u001b[0m\u001b[0;34m(\u001b[0m\u001b[0mHR\u001b[0m\u001b[0;34m)\u001b[0m\u001b[0;34m\u001b[0m\u001b[0;34m\u001b[0m\u001b[0m\n",
            "\u001b[0;32m<ipython-input-34-5f783a737273>\u001b[0m in \u001b[0;36mgetNDCG\u001b[0;34m(recommend_list, gt_item)\u001b[0m\n\u001b[1;32m      4\u001b[0m \u001b[0;32mdef\u001b[0m \u001b[0mgetNDCG\u001b[0m\u001b[0;34m(\u001b[0m\u001b[0mrecommend_list\u001b[0m\u001b[0;34m,\u001b[0m \u001b[0mgt_item\u001b[0m\u001b[0;34m)\u001b[0m\u001b[0;34m:\u001b[0m\u001b[0;34m\u001b[0m\u001b[0;34m\u001b[0m\u001b[0m\n\u001b[1;32m      5\u001b[0m     \u001b[0;32mif\u001b[0m \u001b[0mgt_item\u001b[0m \u001b[0;32min\u001b[0m \u001b[0mrecommend_list\u001b[0m\u001b[0;34m:\u001b[0m\u001b[0;34m\u001b[0m\u001b[0;34m\u001b[0m\u001b[0m\n\u001b[0;32m----> 6\u001b[0;31m         \u001b[0mindex\u001b[0m \u001b[0;34m=\u001b[0m \u001b[0mrecommend_list\u001b[0m\u001b[0;34m.\u001b[0m\u001b[0mindex\u001b[0m\u001b[0;34m(\u001b[0m\u001b[0mgt_item\u001b[0m\u001b[0;34m)\u001b[0m\u001b[0;34m\u001b[0m\u001b[0;34m\u001b[0m\u001b[0m\n\u001b[0m\u001b[1;32m      7\u001b[0m         \u001b[0;32mreturn\u001b[0m \u001b[0;36m1\u001b[0m \u001b[0;34m/\u001b[0m \u001b[0;34m(\u001b[0m\u001b[0mtorch\u001b[0m\u001b[0;34m.\u001b[0m\u001b[0mlog2\u001b[0m\u001b[0;34m(\u001b[0m\u001b[0mindex\u001b[0m \u001b[0;34m+\u001b[0m \u001b[0;36m2\u001b[0m\u001b[0;34m)\u001b[0m\u001b[0;34m)\u001b[0m\u001b[0;34m\u001b[0m\u001b[0;34m\u001b[0m\u001b[0m\n\u001b[1;32m      8\u001b[0m     \u001b[0;32mreturn\u001b[0m \u001b[0;36m0\u001b[0m\u001b[0;34m\u001b[0m\u001b[0;34m\u001b[0m\u001b[0m\n",
            "\u001b[0;31mAttributeError\u001b[0m: 'numpy.ndarray' object has no attribute 'index'"
          ]
        }
      ]
    },
    {
      "cell_type": "code",
      "source": [
        "%tensorboard --logdir runs"
      ],
      "metadata": {
        "id": "qDza2ljcWDmH"
      },
      "execution_count": null,
      "outputs": []
    },
    {
      "cell_type": "code",
      "source": [],
      "metadata": {
        "id": "GhIH5v7DWDYf"
      },
      "execution_count": null,
      "outputs": []
    }
  ]
}